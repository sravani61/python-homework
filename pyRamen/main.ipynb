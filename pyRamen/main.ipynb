{
 "cells": [
  {
   "cell_type": "code",
   "execution_count": 20,
   "metadata": {},
   "outputs": [],
   "source": [
    "# Import the pathlib and csv library\n",
    "from pathlib import Path\n",
    "import csv\n",
    "\n",
    "# Set the file path\n",
    "menu_file_path = Path(\"menu_data.csv\")\n",
    "sales_file_path = Path(\"sales_data.csv\")\n",
    "\n",
    "# Initialize lists\n",
    "menu = []\n",
    "sales = []\n",
    "report = {}\n",
    "\n",
    "# Open the csv file as an object\n",
    "with open(menu_file_path, newline='') as csvfile:\n",
    "    \n",
    "    #Pass in the csv file to the csv.reader() function\n",
    "    # (with ',' as the delmiter/separator) and return the csvreader object\n",
    "    csvreader = csv.reader(csvfile, delimiter=\",\")\n",
    "    \n",
    "    csv_header = next(csvreader)\n",
    "    \n",
    "    #for each new line in csv file, copy it as a list in the menu list object\n",
    "    menu = list(csvreader)\n",
    "\n",
    "\n",
    "\n",
    "with open(sales_file_path, newline='') as csvfile:\n",
    "    \n",
    "    #Pass in the csv file to the csv.reader() function\n",
    "    # (with ',' as the delmiter/separator) and return the csvreader object\n",
    "    csvreader = csv.reader(csvfile, delimiter=\",\")\n",
    "    \n",
    "    csv_header = next(csvreader)\n",
    "    \n",
    "    #for each new line in csv file, copy it as a list in the menu list object\n",
    "    sales = list(csvreader)\n",
    "    \n",
    "\n",
    "for row in sales:\n",
    "    Quantity = sales[3]\n",
    "    Menu_item = sales[4]\n",
    "\n",
    "\n",
    "\n"
   ]
  },
  {
   "cell_type": "code",
   "execution_count": null,
   "metadata": {},
   "outputs": [],
   "source": []
  }
 ],
 "metadata": {
  "kernelspec": {
   "display_name": "Python 3",
   "language": "python",
   "name": "python3"
  },
  "language_info": {
   "codemirror_mode": {
    "name": "ipython",
    "version": 3
   },
   "file_extension": ".py",
   "mimetype": "text/x-python",
   "name": "python",
   "nbconvert_exporter": "python",
   "pygments_lexer": "ipython3",
   "version": "3.8.3"
  }
 },
 "nbformat": 4,
 "nbformat_minor": 4
}
