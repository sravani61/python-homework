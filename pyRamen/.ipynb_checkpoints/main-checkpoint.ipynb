{
 "cells": [
  {
   "cell_type": "code",
   "execution_count": 1,
   "metadata": {},
   "outputs": [
    {
     "name": "stdout",
     "output_type": "stream",
     "text": [
      "{'spicy miso ramen': {'01-count': 9238, '02-revenue': 110856.0, '03-cogs': 46190.0, '04-profits': 64666.0}, 'tori paitan ramen': {'01-count': 9156, '02-revenue': 119028.0, '03-cogs': 54936.0, '04-profits': 64092.0}, 'truffle butter ramen': {'01-count': 8982, '02-revenue': 125748.0, '03-cogs': 62874.0, '04-profits': 62874.0}, 'tonkotsu ramen': {'01-count': 9288, '02-revenue': 120744.0, '03-cogs': 55728.0, '04-profits': 65016.0}, 'vegetarian spicy miso': {'01-count': 9216, '02-revenue': 110592.0, '03-cogs': 46080.0, '04-profits': 64512.0}, 'shio ramen': {'01-count': 9180, '02-revenue': 100980.0, '03-cogs': 45900.0, '04-profits': 55080.0}, 'miso crab ramen': {'01-count': 8890, '02-revenue': 106680.0, '03-cogs': 53340.0, '04-profits': 53340.0}, 'nagomi shoyu': {'01-count': 9132, '02-revenue': 100452.0, '03-cogs': 45660.0, '04-profits': 54792.0}, 'soft-shell miso crab ramen': {'01-count': 9130, '02-revenue': 127820.0, '03-cogs': 63910.0, '04-profits': 63910.0}, 'burnt garlic tonkotsu ramen': {'01-count': 9070, '02-revenue': 126980.0, '03-cogs': 54420.0, '04-profits': 72560.0}, 'vegetarian curry + king trumpet mushroom ramen': {'01-count': 8824, '02-revenue': 114712.0, '03-cogs': 61768.0, '04-profits': 52944.0}}\n"
     ]
    }
   ],
   "source": [
    "# Import the pathlib and csv library\n",
    "from pathlib import Path\n",
    "import csv\n",
    "\n",
    "# Set the file path\n",
    "menu_file_path = Path(\"menu_data.csv\")\n",
    "sales_file_path = Path(\"sales_data.csv\")\n",
    "\n",
    "# Initialize lists for each resource file and dictionarry for analysis file\n",
    "menu = []\n",
    "sales = []\n",
    "report = {}\n",
    "\n",
    "# Open the csv file as an object\n",
    "with open(menu_file_path, newline='') as csvfile:\n",
    "    \n",
    "    #Pass in the csv file to the csv.reader() function\n",
    "    # (with ',' as the delmiter/separator) and return the csvreader object\n",
    "    csvreader = csv.reader(csvfile, delimiter=\",\")\n",
    "    \n",
    "    # Read the header row first (skip this step if there is no header)\n",
    "    csv_header = next(csvreader)\n",
    "    \n",
    "    #for each new line in csv file, copy it as a list in the menu list object\n",
    "    menu = list(csvreader)\n",
    "\n",
    "\n",
    "# Open the csv file as an object\n",
    "with open(sales_file_path, newline='') as csvfile:\n",
    "    \n",
    "    #Pass in the csv file to the csv.reader() function\n",
    "    # (with ',' as the delmiter/separator) and return the csvreader object\n",
    "    csvreader = csv.reader(csvfile, delimiter=\",\")\n",
    "    \n",
    "    # Read the header row first (skip this step if there is no header)\n",
    "    csv_header = next(csvreader)\n",
    "    \n",
    "    #for each new line in csv file, copy it as a list in the menu list object\n",
    "    sales = list(csvreader)\n",
    "\n",
    "#Read each row in sales and add all the quantities for a respective ramen and save it in report\n",
    "for row in sales:\n",
    "    \n",
    "    #Assign values in required index place to the variables\n",
    "    Quantity = int(row[3])\n",
    "    Menu_item = row[4]\n",
    "    \n",
    "    #Search for the ramen type in report dictionary. If found, add the new quantity to the existing value /\n",
    "    #else, update a new key value set in report dictionary\n",
    "    \n",
    "    if Menu_item not in report:\n",
    "        report.update({Menu_item : {'01-count' : Quantity, '02-revenue' : 0, '03-cogs' : 0, '04-profits' : 0}})\n",
    "    else:\n",
    "        report.update({Menu_item : {'01-count' : int(report[Menu_item]['01-count']) + Quantity}})\n",
    "\n",
    "#Read each row in menu and calculate the revenue, cogs, and profits for the respective quantity\n",
    "for row in menu:\n",
    "    \n",
    "    #For each ramen name in menu file search for the respective entry in report dictionary /\n",
    "    #and calculate the revenue, cogs, and profit, and save it in report\n",
    "    if row[0] in report.keys():\n",
    "        \n",
    "        #Calculations\n",
    "        revenue = float(row[3]) * report[row[0]]['01-count']\n",
    "        cogs = float(row[4]) * report[row[0]]['01-count']\n",
    "        profit = revenue - cogs\n",
    "        \n",
    "        report.update({row[0]:{'01-count' : report[row[0]]['01-count'], '02-revenue' : revenue, '03-cogs' : cogs, '04-profits' : profit }})\n",
    "\n",
    "#print the report        \n",
    "print(f\"{report}\")"
   ]
  },
  {
   "cell_type": "code",
   "execution_count": null,
   "metadata": {},
   "outputs": [],
   "source": []
  },
  {
   "cell_type": "code",
   "execution_count": null,
   "metadata": {},
   "outputs": [],
   "source": []
  },
  {
   "cell_type": "code",
   "execution_count": null,
   "metadata": {},
   "outputs": [],
   "source": []
  },
  {
   "cell_type": "code",
   "execution_count": null,
   "metadata": {},
   "outputs": [],
   "source": []
  }
 ],
 "metadata": {
  "kernelspec": {
   "display_name": "Python 3",
   "language": "python",
   "name": "python3"
  },
  "language_info": {
   "codemirror_mode": {
    "name": "ipython",
    "version": 3
   },
   "file_extension": ".py",
   "mimetype": "text/x-python",
   "name": "python",
   "nbconvert_exporter": "python",
   "pygments_lexer": "ipython3",
   "version": "3.8.3"
  }
 },
 "nbformat": 4,
 "nbformat_minor": 4
}
